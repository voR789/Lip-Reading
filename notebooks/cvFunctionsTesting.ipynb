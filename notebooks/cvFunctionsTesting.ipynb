{
 "cells": [
  {
   "cell_type": "code",
   "execution_count": 1,
   "id": "a6399b97",
   "metadata": {},
   "outputs": [],
   "source": [
    "import cv2\n",
    "import mediapipe as mp\n",
    "import matplotlib.pyplot as plt\n",
    "from mediapipe.python.solutions.drawing_utils import draw_landmarks\n",
    "from mediapipe.python.solutions import drawing_styles\n",
    "import numpy as np\n",
    "import pandas as pd\n",
    "\n",
    "import sys\n",
    "import os\n",
    "\n",
    "sys.path.append(os.path.abspath(os.path.join(os.getcwd(), '..')))\n",
    "\n",
    "from util import cv_utils\n",
    "\n",
    "import importlib\n",
    "importlib.reload(cv_utils)\n",
    "\n",
    "from util.cv_utils import *\n",
    "\n",
    "%load_ext autoreload\n",
    "%autoreload 2\n",
    "\n",
    "# # Daniel Path\n",
    "# video_path = r\"C:\\Users\\User\\OneDrive\\Documents\\Projects\\Lip-Reading\\GRID\\s1\\s1\\bbaf2n.mpg\"\n",
    "# align_path = r\"C:\\Users\\User\\OneDrive\\Documents\\Projects\\Lip-Reading\\GRID\\align_s1\\bbaf2n.align\"\n",
    "# Ryan Path\n",
    "video_path = r\"C:\\Projects\\Lip_Reading\\GRID\\raw\\video_data\\s1\\bbaf2n.mpg\"\n",
    "align_path = r\"C:\\Projects\\Lip_Reading\\GRID\\raw\\alignment_data\\align_s1\\bbaf2n.align\"\n",
    "\n"
   ]
  },
  {
   "cell_type": "code",
   "execution_count": 2,
   "id": "c0eae19b",
   "metadata": {},
   "outputs": [
    {
     "name": "stderr",
     "output_type": "stream",
     "text": [
      "C:\\Users\\ryanv\\AppData\\Roaming\\Python\\Python310\\site-packages\\google\\protobuf\\symbol_database.py:55: UserWarning: SymbolDatabase.GetPrototype() is deprecated. Please use message_factory.GetMessageClass() instead. SymbolDatabase.GetPrototype() will be removed soon.\n",
      "  warnings.warn('SymbolDatabase.GetPrototype() is deprecated. Please '\n"
     ]
    }
   ],
   "source": [
    "# Test proccessClip\n",
    "video = load_video(video_path)\n",
    "a,b,c = proccess_Clip(video)\n",
    "\n",
    "df1 = pd.DataFrame(a)\n",
    "df2 = pd.DataFrame(b)\n",
    "df3 = pd.DataFrame(c)\n",
    "\n",
    "\n",
    "\n",
    "df1.to_csv(\"C:\\\\Projects\\\\Lip_Reading\\\\notebooks\\\\test_data\\\\engineered_features2.csv\")\n",
    "df2.to_csv(\"C:\\\\Projects\\\\Lip_Reading\\\\notebooks\\\\test_data\\\\landmark_coordinates2.csv\")\n",
    "df3.to_csv(\"C:\\\\Projects\\\\Lip_Reading\\\\notebooks\\\\test_data\\\\landmark_velocities2.csv\")\n",
    "\n",
    "# df1.to_csv(r\"C:\\Users\\User\\OneDrive\\Documents\\Projects\\Lip-Reading\\notebooks\\test_data\\engineered_features.csv\")\n",
    "# df2.to_csv(r\"C:\\Users\\User\\OneDrive\\Documents\\Projects\\Lip-Reading\\notebooks\\test_data\\landmark_coordinates.csv\")\n",
    "# df3.to_csv(r\"C:\\Users\\User\\OneDrive\\Documents\\Projects\\Lip-Reading\\notebooks\\test_data\\landmark_velocities.csv\")\n",
    "\n"
   ]
  },
  {
   "cell_type": "code",
   "execution_count": null,
   "id": "9f1b36e2",
   "metadata": {},
   "outputs": [
    {
     "ename": "NameError",
     "evalue": "name 'proccessClip' is not defined",
     "output_type": "error",
     "traceback": [
      "\u001b[1;31m---------------------------------------------------------------------------\u001b[0m",
      "\u001b[1;31mNameError\u001b[0m                                 Traceback (most recent call last)",
      "Cell \u001b[1;32mIn[3], line 4\u001b[0m\n\u001b[0;32m      2\u001b[0m \u001b[38;5;28;01mfor\u001b[39;00m segment \u001b[38;5;129;01min\u001b[39;00m segments:\n\u001b[0;32m      3\u001b[0m     clip \u001b[38;5;241m=\u001b[39m video[segment[\u001b[38;5;241m0\u001b[39m]:segment[\u001b[38;5;241m1\u001b[39m]]\n\u001b[1;32m----> 4\u001b[0m     a, b, c \u001b[38;5;241m=\u001b[39m \u001b[43mproccessClip\u001b[49m(clip)\n\u001b[0;32m      6\u001b[0m     \u001b[38;5;66;03m# display as csv\u001b[39;00m\n\u001b[0;32m      7\u001b[0m     \u001b[38;5;66;03m# df1 = pd.DataFrame(a)\u001b[39;00m\n\u001b[0;32m      8\u001b[0m     \u001b[38;5;66;03m# df1.to_csv(f\"C:\\\\Projects\\\\Lip_Reading\\\\notebooks\\\\test_data\\\\Engineered_Features_{segment[2]}.csv\")\u001b[39;00m\n\u001b[1;32m   (...)\u001b[0m\n\u001b[0;32m     22\u001b[0m     \u001b[38;5;66;03m# to np array\u001b[39;00m\n\u001b[0;32m     23\u001b[0m     \u001b[38;5;66;03m# print(toArray(a))\u001b[39;00m\n",
      "\u001b[1;31mNameError\u001b[0m: name 'proccessClip' is not defined"
     ]
    }
   ],
   "source": [
    "segments = extractClips(align_path)\n",
    "for segment in segments:\n",
    "    clip = video[segment[0]:segment[1]]\n",
    "    a, b, c = proccess_Clip(clip)\n",
    "    \n",
    "    # display as csv\n",
    "    # df1 = pd.DataFrame(a)\n",
    "    # df1.to_csv(f\"C:\\\\Projects\\\\Lip_Reading\\\\notebooks\\\\test_data\\\\Engineered_Features_{segment[2]}.csv\")\n",
    "    # df2 = pd.DataFrame(b)\n",
    "    # df2.to_csv(f\"C:\\\\Projects\\\\Lip_Reading\\\\notebooks\\\\test_data\\\\Coordinates_{segment[2]}.csv\")\n",
    "    # df3 = pd.DataFrame(c)\n",
    "    # df3.to_csv(f\"C:\\\\Projects\\\\Lip_Reading\\\\notebooks\\\\test_data\\\\Velocities_{segment[2]}.csv\")\n",
    "\n",
    "    # Daniel's path\n",
    "    # df1 = pd.DataFrame(a)\n",
    "    # df1.to_csv(f\"C:\\\\Users\\\\User\\\\OneDrive\\\\Documents\\\\Projects\\\\Lip-Reading\\\\notebooks\\\\test_data\\\\Engineered_Features_{segment[2]}.csv\")\n",
    "    # df2 = pd.DataFrame(b)\n",
    "    # df2.to_csv(f\"C:\\\\Users\\\\User\\\\OneDrive\\\\Documents\\\\Projects\\\\Lip-Reading\\\\notebooks\\\\test_data\\\\Coordinates_{segment[2]}.csv\")\n",
    "    # df3 = pd.DataFrame(c)\n",
    "    # df3.to_csv(f\"C:\\\\Users\\\\User\\\\OneDrive\\\\Documents\\\\Projects\\\\Lip-Reading\\\\notebooks\\\\test_data\\\\Velocities_{segment[2]}.csv\")\n",
    "    \n",
    "    # to np array\n",
    "    # print(toArray(a))\n"
   ]
  }
 ],
 "metadata": {
  "kernelspec": {
   "display_name": "Python 3",
   "language": "python",
   "name": "python3"
  },
  "language_info": {
   "codemirror_mode": {
    "name": "ipython",
    "version": 3
   },
   "file_extension": ".py",
   "mimetype": "text/x-python",
   "name": "python",
   "nbconvert_exporter": "python",
   "pygments_lexer": "ipython3",
   "version": "3.10.0"
  }
 },
 "nbformat": 4,
 "nbformat_minor": 5
}
