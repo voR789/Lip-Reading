{
 "cells": [
  {
   "cell_type": "code",
   "execution_count": 2,
   "id": "426fc791",
   "metadata": {},
   "outputs": [],
   "source": [
    "import torch\n",
    "import torch.nn as nn\n",
    "import torch.nn.functional as F\n",
    "\n",
    "\n",
    "class LipReadingModel(nn.Module):\n",
    "    def __init__(self, dim_input_size, twoD_input_size, hidden_size, num_classes):\n",
    "        super(LipReadingModel, self).__init__()\n",
    "\n",
    "        self.lstm_dim = nn.LSTM(dim_input_size, hidden_size, batch_first=True)\n",
    "        self.lstm_2d_1 = nn.LSTM(twoD_input_size, hidden_size, batch_first=True)\n",
    "        self.lstm_2d_2 = nn.LSTM(twoD_input_size, hidden_size, batch_first=True)\n",
    "\n",
    "        self.fc = nn.Sequential(\n",
    "            nn.Linear(hidden_size * 3, 128),\n",
    "            nn.ReLU(),\n",
    "            nn.Linear(128, num_classes)\n",
    "        )\n",
    "\n",
    "    def forward(self, x_dim, x_2d_1, x_2d_2):\n",
    "        # LSTM expects (batch, sequence, feature)\n",
    "        _, (h_dim, _) = self.lstm_dim(x_dim)\n",
    "        _, (h_2d_1, _) = self.lstm_2d_1(x_2d_1)\n",
    "        _, (h_2d_2, _) = self.lstm_2d_2(x_2d_2)\n",
    "\n",
    "        # Use only the final hidden state\n",
    "        h_cat = torch.cat((h_dim[-1], h_2d_1[-1], h_2d_2[-1]), dim=1)\n",
    "        return self.fc(h_cat)\n",
    "    \n",
    "    "
   ]
  },
  {
   "cell_type": "code",
   "execution_count": null,
   "id": "82bc3cd3",
   "metadata": {},
   "outputs": [],
   "source": [
    "model = LipReadingModel(\n",
    "    dim_input_size = 74,\n",
    "    twoD_input_size = 148, # Assuming 74 landmarks with 2D coordinates (x, y) and velocities\n",
    "    hidden_size = 148,  # Hidden size for LSTM layers (can be adjusted)\n",
    "    num_classes = NUM_CLASSES  # TODO Define the number of classes for your task (words, phonemes, etc.)\n",
    ")\n",
    "\n",
    "criterion = nn.CrossEntropyLoss()\n",
    "optimizer = torch.optim.Adam(model.parameters(), lr=0.001)\n",
    "\n",
    "for epoch in range(num_epochs):\n",
    "    model.train()\n",
    "\n",
    "    for x_dim_batch, x_2d_1_batch, x_2d_2_batch, y_batch in data_loader:        \n",
    "        outputs = model(x_dim_batch, x_2d_1_batch, x_2d_2_batch)\n",
    "        loss = criterion(outputs, y_batch)\n",
    "        \n",
    "        optimizer.zero_grad()\n",
    "        loss.backward()\n",
    "        optimizer.step()\n",
    "\n",
    "    print(f'Epoch {epoch+1}, Loss: {loss.item():.4f}')\n"
   ]
  }
 ],
 "metadata": {
  "kernelspec": {
   "display_name": "Python 3",
   "language": "python",
   "name": "python3"
  },
  "language_info": {
   "codemirror_mode": {
    "name": "ipython",
    "version": 3
   },
   "file_extension": ".py",
   "mimetype": "text/x-python",
   "name": "python",
   "nbconvert_exporter": "python",
   "pygments_lexer": "ipython3",
   "version": "3.10.11"
  }
 },
 "nbformat": 4,
 "nbformat_minor": 5
}
