{
 "cells": [
  {
   "cell_type": "code",
   "execution_count": 67,
   "id": "cc013e7d",
   "metadata": {},
   "outputs": [],
   "source": [
    "def pad_or_truncate(seq, max_len=30):\n",
    "    seq = np.array(seq)\n",
    "    seq_len, feature_dim = seq.shape\n",
    "    if seq_len < max_len:\n",
    "        pad = np.zeros((max_len - seq_len, feature_dim))\n",
    "        return np.vstack([seq, pad])\n",
    "    else:\n",
    "        return seq[:max_len]\n"
   ]
  },
  {
   "cell_type": "code",
   "execution_count": 68,
   "id": "bbc4d86f",
   "metadata": {},
   "outputs": [],
   "source": [
    "# Combine CSV files into a DataSet\n",
    "import pandas as pd\n",
    "import numpy as np\n",
    "import os\n",
    "import glob\n",
    "\n",
    "def load_word_features(folder, max_len=30):\n",
    "    X_dim_list, X_2d1_list, X_2d2_list, labels = [], [], [], []\n",
    "\n",
    "    # Find all engineered features CSVs\n",
    "    for file in glob.glob(os.path.join(folder, \"Engineered_Features_*.csv\")):\n",
    "\n",
    "        # Extract word name (everything after last underscore, before .csv)\n",
    "        word = os.path.basename(file).split(\"_\")[-1].replace(\".csv\", \"\")\n",
    "\n",
    "        # Construct matching filenames for other features\n",
    "        file_coords = file.replace(\"Engineered_Features\", \"Coordinates\")\n",
    "        file_vel = file.replace(\"Engineered_Features\", \"Velocities\")\n",
    "\n",
    "\n",
    "        # Load CSVs into numpy arrays\n",
    "        df_dim = pd.read_csv(file).to_numpy()\n",
    "        df_2d1 = pd.read_csv(file_coords).to_numpy()\n",
    "        df_2d2 = pd.read_csv(file_vel).to_numpy()\n",
    "\n",
    "        # ✅ pad/truncate each word clip\n",
    "        df_dim = pad_or_truncate(df_dim, max_len)\n",
    "        df_2d1 = pad_or_truncate(df_2d1, max_len)\n",
    "        df_2d2 = pad_or_truncate(df_2d2, max_len)\n",
    "\n",
    "        # Append to lists\n",
    "        X_dim_list.append(df_dim)\n",
    "        X_2d1_list.append(df_2d1)\n",
    "        X_2d2_list.append(df_2d2)\n",
    "        labels.append(word)\n",
    "\n",
    "        # print(pd.read_csv(file))\n",
    "\n",
    "    return np.array(X_dim_list), np.array(X_2d1_list), np.array(X_2d2_list), labels\n",
    "\n"
   ]
  },
  {
   "cell_type": "code",
   "execution_count": 69,
   "id": "5353d5ef",
   "metadata": {},
   "outputs": [],
   "source": [
    "folder = r\"C:\\Users\\User\\OneDrive\\Documents\\Projects\\Lip-Reading\\notebooks\\test_data\"\n",
    "\n",
    "\n",
    "X_dim, X_2d1, X_2d2, labels = load_word_features(folder)\n",
    "\n"
   ]
  },
  {
   "cell_type": "code",
   "execution_count": 70,
   "id": "62e8eba2",
   "metadata": {},
   "outputs": [],
   "source": [
    "# Encode Labels (Words -> IDs)\n",
    "words = sorted(set(labels))\n",
    "vocab = {w: i for i, w in enumerate(words)}\n",
    "y = np.array([vocab[w] for w in labels])\n"
   ]
  },
  {
   "cell_type": "code",
   "execution_count": 71,
   "id": "d96c3c15",
   "metadata": {},
   "outputs": [
    {
     "ename": "TypeError",
     "evalue": "can't convert np.ndarray of type numpy.object_. The only supported types are: float64, float32, float16, complex64, complex128, int64, int32, int16, int8, uint64, uint32, uint16, uint8, and bool.",
     "output_type": "error",
     "traceback": [
      "\u001b[1;31m---------------------------------------------------------------------------\u001b[0m",
      "\u001b[1;31mTypeError\u001b[0m                                 Traceback (most recent call last)",
      "Cell \u001b[1;32mIn[71], line 20\u001b[0m\n\u001b[0;32m     18\u001b[0m \u001b[38;5;66;03m# Create a DataLoader\u001b[39;00m\n\u001b[0;32m     19\u001b[0m \u001b[38;5;28;01mfrom\u001b[39;00m\u001b[38;5;250m \u001b[39m\u001b[38;5;21;01mtorch\u001b[39;00m\u001b[38;5;21;01m.\u001b[39;00m\u001b[38;5;21;01mutils\u001b[39;00m\u001b[38;5;21;01m.\u001b[39;00m\u001b[38;5;21;01mdata\u001b[39;00m\u001b[38;5;250m \u001b[39m\u001b[38;5;28;01mimport\u001b[39;00m DataLoader\n\u001b[1;32m---> 20\u001b[0m dataset \u001b[38;5;241m=\u001b[39m \u001b[43mLipReadingWordDataset\u001b[49m\u001b[43m(\u001b[49m\u001b[43mX_dim\u001b[49m\u001b[43m,\u001b[49m\u001b[43m \u001b[49m\u001b[43mX_2d1\u001b[49m\u001b[43m,\u001b[49m\u001b[43m \u001b[49m\u001b[43mX_2d2\u001b[49m\u001b[43m,\u001b[49m\u001b[43m \u001b[49m\u001b[43my\u001b[49m\u001b[43m)\u001b[49m\n\u001b[0;32m     21\u001b[0m train_loader \u001b[38;5;241m=\u001b[39m DataLoader(dataset, batch_size\u001b[38;5;241m=\u001b[39m\u001b[38;5;241m32\u001b[39m, shuffle\u001b[38;5;241m=\u001b[39m\u001b[38;5;28;01mTrue\u001b[39;00m)\n",
      "Cell \u001b[1;32mIn[71], line 8\u001b[0m, in \u001b[0;36mLipReadingWordDataset.__init__\u001b[1;34m(self, X_dim, X_2d1, X_2d2, y)\u001b[0m\n\u001b[0;32m      6\u001b[0m \u001b[38;5;28;01mdef\u001b[39;00m\u001b[38;5;250m \u001b[39m\u001b[38;5;21m__init__\u001b[39m(\u001b[38;5;28mself\u001b[39m, X_dim, X_2d1, X_2d2, y):\n\u001b[0;32m      7\u001b[0m     \u001b[38;5;28mself\u001b[39m\u001b[38;5;241m.\u001b[39mX_dim \u001b[38;5;241m=\u001b[39m torch\u001b[38;5;241m.\u001b[39mtensor(X_dim, dtype\u001b[38;5;241m=\u001b[39mtorch\u001b[38;5;241m.\u001b[39mfloat32)\n\u001b[1;32m----> 8\u001b[0m     \u001b[38;5;28mself\u001b[39m\u001b[38;5;241m.\u001b[39mX_2d1 \u001b[38;5;241m=\u001b[39m \u001b[43mtorch\u001b[49m\u001b[38;5;241;43m.\u001b[39;49m\u001b[43mtensor\u001b[49m\u001b[43m(\u001b[49m\u001b[43mX_2d1\u001b[49m\u001b[43m,\u001b[49m\u001b[43m \u001b[49m\u001b[43mdtype\u001b[49m\u001b[38;5;241;43m=\u001b[39;49m\u001b[43mtorch\u001b[49m\u001b[38;5;241;43m.\u001b[39;49m\u001b[43mfloat32\u001b[49m\u001b[43m)\u001b[49m\n\u001b[0;32m      9\u001b[0m     \u001b[38;5;28mself\u001b[39m\u001b[38;5;241m.\u001b[39mX_2d2 \u001b[38;5;241m=\u001b[39m torch\u001b[38;5;241m.\u001b[39mtensor(X_2d2, dtype\u001b[38;5;241m=\u001b[39mtorch\u001b[38;5;241m.\u001b[39mfloat32)\n\u001b[0;32m     10\u001b[0m     \u001b[38;5;28mself\u001b[39m\u001b[38;5;241m.\u001b[39my \u001b[38;5;241m=\u001b[39m torch\u001b[38;5;241m.\u001b[39mtensor(y, dtype\u001b[38;5;241m=\u001b[39mtorch\u001b[38;5;241m.\u001b[39mlong)\n",
      "\u001b[1;31mTypeError\u001b[0m: can't convert np.ndarray of type numpy.object_. The only supported types are: float64, float32, float16, complex64, complex128, int64, int32, int16, int8, uint64, uint32, uint16, uint8, and bool."
     ]
    }
   ],
   "source": [
    "# Create Pytorch Dataset\n",
    "import torch\n",
    "from torch.utils.data import Dataset\n",
    "\n",
    "class LipReadingWordDataset(Dataset):\n",
    "    def __init__(self, X_dim, X_2d1, X_2d2, y):\n",
    "        self.X_dim = torch.tensor(X_dim, dtype=torch.float32)\n",
    "        self.X_2d1 = torch.tensor(X_2d1, dtype=torch.float32)\n",
    "        self.X_2d2 = torch.tensor(X_2d2, dtype=torch.float32)\n",
    "        self.y = torch.tensor(y, dtype=torch.long)\n",
    "\n",
    "    def __len__(self):\n",
    "        return len(self.y)\n",
    "\n",
    "    def __getitem__(self, idx):\n",
    "        return self.X_dim[idx], self.X_2d1[idx], self.X_2d2[idx], self.y[idx]\n",
    "\n",
    "# Create a DataLoader\n",
    "from torch.utils.data import DataLoader\n",
    "dataset = LipReadingWordDataset(X_dim, X_2d1, X_2d2, y)\n",
    "train_loader = DataLoader(dataset, batch_size=32, shuffle=True)\n"
   ]
  },
  {
   "cell_type": "code",
   "execution_count": null,
   "id": "5ea8dffb",
   "metadata": {},
   "outputs": [],
   "source": [
    "# Define a simple model\n",
    "import torch.nn as nn\n",
    "import torch.nn.functional as F\n",
    "\n",
    "class LipReadingModel(nn.Module):\n",
    "    def __init__(self, dim_features, coords_features, vel_features, hidden_size, num_classes):\n",
    "        super(LipReadingModel, self).__init__()\n",
    "\n",
    "        input_size = dim_features + coords_features + vel_features\n",
    "        self.lstm = nn.LSTM(input_size, hidden_size, batch_first=True)\n",
    "        self.fc = nn.Linear(hidden_size, num_classes)\n",
    "\n",
    "    def forward(self, x_dim, x_2d1, x_2d2):\n",
    "        # Concatenate features along last dimension\n",
    "        x = torch.cat([x_dim, x_2d1, x_2d2], dim=2)  # (batch, frames, features)\n",
    "        _, (h_n, _) = self.lstm(x)  # Use final hidden state\n",
    "        out = self.fc(h_n[-1])      # (batch, num_classes)\n",
    "        return out\n"
   ]
  },
  {
   "cell_type": "code",
   "execution_count": null,
   "id": "ed3e1649",
   "metadata": {},
   "outputs": [],
   "source": [
    "# Train the model \n",
    "import torch.optim as optim\n",
    "\n",
    "num_classes = len(vocab)\n",
    "model = LipReadingModel(dim_features=X_dim.shape[2],\n",
    "                        coords_features=X_2d1.shape[2],\n",
    "                        vel_features=X_2d2.shape[2],\n",
    "                        hidden_size=128,\n",
    "                        num_classes=num_classes)\n",
    "\n",
    "criterion = nn.CrossEntropyLoss()\n",
    "optimizer = optim.Adam(model.parameters(), lr=0.001)\n",
    "\n",
    "for epoch in range(10):\n",
    "    for x_dim_batch, x2d1_batch, x2d2_batch, y_batch in train_loader:\n",
    "        optimizer.zero_grad()\n",
    "        outputs = model(x_dim_batch, x2d1_batch, x2d2_batch)\n",
    "        loss = criterion(outputs, y_batch)\n",
    "        loss.backward()\n",
    "        optimizer.step()\n",
    "    print(f\"Epoch {epoch+1}: Loss = {loss.item():.4f}\")\n"
   ]
  },
  {
   "cell_type": "code",
   "execution_count": null,
   "id": "d295662d",
   "metadata": {},
   "outputs": [],
   "source": [
    "# Test the model\n",
    "model.eval()\n",
    "with torch.no_grad():\n",
    "    pred = model(x_dim_batch, x2d1_batch, x2d2_batch).argmax(1)\n",
    "    print(pred)\n"
   ]
  }
 ],
 "metadata": {
  "kernelspec": {
   "display_name": "Python 3",
   "language": "python",
   "name": "python3"
  },
  "language_info": {
   "codemirror_mode": {
    "name": "ipython",
    "version": 3
   },
   "file_extension": ".py",
   "mimetype": "text/x-python",
   "name": "python",
   "nbconvert_exporter": "python",
   "pygments_lexer": "ipython3",
   "version": "3.10.11"
  }
 },
 "nbformat": 4,
 "nbformat_minor": 5
}
