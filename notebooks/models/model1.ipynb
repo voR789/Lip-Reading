{
 "cells": [
  {
   "cell_type": "code",
   "execution_count": 8,
   "id": "be0ebff2",
   "metadata": {},
   "outputs": [],
   "source": [
    "import sys\n",
    "sys.path.append(\".\")\n",
    "import importlib\n",
    "# import datasets.lip_to_word_dataset \n",
    "import util.cv_utils\n",
    "# importlib.reload(datasets.lip_to_word_dataset)\n",
    "importlib.reload(util.cv_utils)\n",
    "# from datasets.lip_to_word_dataset import LipReadingWordDataset\n",
    "from util.cv_utils import collate_fn\n",
    "\n",
    "import torch\n",
    "from torch.utils.data import Dataset\n",
    "from pathlib import Path\n",
    "from torch.utils.data import DataLoader\n"
   ]
  },
  {
   "cell_type": "code",
   "execution_count": 9,
   "id": "09f758ea",
   "metadata": {},
   "outputs": [],
   "source": [
    "from torch.utils.data import Dataset\n",
    "\n",
    "\n",
    "class LipReadingWordDataset(Dataset):\n",
    "    # Implement abstract funcs\n",
    "    \n",
    "    # constructor\n",
    "    # pass in path object of proccessed folder\n",
    "    def __init__(self, processed_dir):\n",
    "        self.index_map = []\n",
    "        self.cache = {} # data optimization as we save loading times for redudant multiple get item calls for data, etc: epochs\n",
    "        processed_dir = Path(processed_dir)\n",
    "        for folder in processed_dir.iterdir():\n",
    "            folder = Path(folder)\n",
    "            for data_file in folder.glob(\"*.pth\"):            \n",
    "                data = torch.load(data_file, map_location= 'cpu', weights_only=False)\n",
    "                num_words = len(data[\"y_labels\"])\n",
    "                for i in range(num_words):\n",
    "                    self.index_map.append((data_file, i)) \n",
    "                    # load in the indicies and path of each word token, and load actual data in real time for optimization\n",
    "\n",
    "    def __len__(self):\n",
    "        # Return total amount of word tokens\n",
    "        return len(self.index_map)\n",
    "\n",
    "    def __getitem__(self, idx):\n",
    "        # Return part of sequence for each word using index map (index being which word in the file)\n",
    "        data_path, index = self.index_map[idx]\n",
    "        if data_path not in self.cache:\n",
    "            self.cache[data_path] = torch.load(data_path, map_location= 'cpu', weights_only= False)\n",
    "        # load from cache\n",
    "        data = self.cache[data_path]\n",
    "        \n",
    "        # Load data into tensors at runtime\n",
    "        x_feat, x_coords, x_veloc, y_labels = data[\"x_feat\"][index], data[\"x_coords\"][index], data[\"x_veloc\"][index], data[\"y_labels\"][index]\n",
    "        return torch.tensor(x_feat, dtype= torch.float32), torch.tensor(x_coords, dtype= torch.float32), torch.tensor(x_veloc, dtype= torch.float32), torch.tensor(y_labels, dtype= torch.long)\n",
    "        \n"
   ]
  },
  {
   "cell_type": "code",
   "execution_count": 10,
   "id": "019d37d0",
   "metadata": {},
   "outputs": [],
   "source": [
    "# Load data\n",
    "# folder = Path(r\"C:\\Projects\\Lip_Reading\\GRID\\processed\")\n",
    "# Daniel's Path\n",
    "folder = Path(r\"C:\\Users\\User\\OneDrive\\Documents\\Projects\\Lip-Reading\\GRID\\processed\")\n",
    "dataset = LipReadingWordDataset(folder)\n",
    "\n",
    "train_loader = DataLoader(dataset, batch_size=32, shuffle=True, collate_fn=collate_fn)"
   ]
  },
  {
   "cell_type": "code",
   "execution_count": 11,
   "id": "6d14fe40",
   "metadata": {},
   "outputs": [
    {
     "name": "stdout",
     "output_type": "stream",
     "text": [
      "x_feat shape: (6, 8)\n",
      "x_coords shape: (6, 18)\n",
      "x_veloc shape: (6, 18)\n",
      "Label: 4\n"
     ]
    }
   ],
   "source": [
    "# Data size for model\n",
    "# processed_file = Path(r\"C:\\Projects\\Lip_Reading\\GRID\\processed\\s1\\bbaf2n_data.pth\") \n",
    "# Daniel's Path\n",
    "processed_file = Path(r\"C:\\Users\\User\\OneDrive\\Documents\\Projects\\Lip-Reading\\GRID\\processed\\s1\\bbaf2n_data.pth\")\n",
    "data = torch.load(processed_file, map_location='cpu', weights_only= False)\n",
    "# Access the first word/sample's feature tensor shape\n",
    "x_feat = data[\"x_feat\"][0]  # first sample's engineered features\n",
    "x_coords = data[\"x_coords\"][0]  # first sample's coords\n",
    "x_veloc = data[\"x_veloc\"][0]  # first sample's velocities\n",
    "y_label = data[\"y_labels\"][0]\n",
    "\n",
    "print(f\"x_feat shape: {x_feat.shape}\")   # should print something like (seq_len, feat_dim)\n",
    "print(f\"x_coords shape: {x_coords.shape}\")\n",
    "print(f\"x_veloc shape: {x_veloc.shape}\")\n",
    "print(f\"Label: {y_label}\")\n"
   ]
  },
  {
   "cell_type": "code",
   "execution_count": 12,
   "id": "0b65f80a",
   "metadata": {},
   "outputs": [],
   "source": [
    "# Define a simple model\n",
    "import torch.nn as nn\n",
    "import torch.nn.functional as F\n",
    "\n",
    "class LipReadingModel(nn.Module):\n",
    "    def __init__(self, x_feat, x_coords, x_veloc, hidden_size, num_classes):\n",
    "        super(LipReadingModel, self).__init__()\n",
    "\n",
    "        input_size = x_feat + x_coords + x_veloc\n",
    "        self.lstm = nn.LSTM(input_size, hidden_size, batch_first=True)\n",
    "        self.fc = nn.Linear(hidden_size, num_classes)\n",
    "\n",
    "    def forward(self, x_dim, x_2d1, x_2d2):\n",
    "        x = torch.cat([x_dim, x_2d1, x_2d2], dim=2) \n",
    "        _, (h_n, _) = self.lstm(x)  \n",
    "        out = self.fc(h_n[-1])      \n",
    "        return out\n",
    "\n",
    "    def __getitem__(self, idx):\n",
    "        x_dim = torch.tensor(self.X_dim[idx], dtype=torch.float32)\n",
    "        x2d1  = torch.tensor(self.X_2d1[idx], dtype=torch.float32)\n",
    "        x2d2  = torch.tensor(self.X_2d2[idx], dtype=torch.float32)\n",
    "        label = torch.tensor(self.y[idx], dtype=torch.long)  # labels must be long for CrossEntropyLoss\n",
    "        return x_dim, x2d1, x2d2, label"
   ]
  },
  {
   "cell_type": "code",
   "execution_count": 13,
   "id": "3398294d",
   "metadata": {},
   "outputs": [],
   "source": [
    "model = LipReadingModel(\n",
    "    x_feat = 8,\n",
    "    x_coords = 18,\n",
    "    x_veloc = 18,\n",
    "    hidden_size = 128,\n",
    "    num_classes = 55\n",
    ")"
   ]
  },
  {
   "cell_type": "code",
   "execution_count": 14,
   "id": "5d284129",
   "metadata": {},
   "outputs": [],
   "source": [
    "import torch.optim as optim\n",
    "\n",
    "criterion = nn.CrossEntropyLoss()\n",
    "optimizer = optim.Adam(model.parameters(), lr=0.001)"
   ]
  },
  {
   "cell_type": "code",
   "execution_count": 16,
   "id": "f016fcc8",
   "metadata": {},
   "outputs": [],
   "source": [
    "device = torch.device(\"cuda\" if torch.cuda.is_available() else \"cpu\")\n",
    "model = model.to(device)\n",
    "# TODO Fix corruption in data ruining pad_sequence b/c length of zero, investigate\n",
    "for epoch in range(10):\n",
    "    model.train()\n",
    "    total_loss = 0.0\n",
    "    for x1, x2, x3, y in train_loader:\n",
    "\n",
    "        # Move data to device\n",
    "        x1 = x1.to(device)\n",
    "        x2 = x2.to(device)\n",
    "        x3 = x3.to(device)\n",
    "        y = y.to(device)\n",
    "        \n",
    "        # Forward pass\n",
    "        outputs = model(x1, x2, x3)\n",
    "        loss = criterion(outputs, y)\n",
    "\n",
    "        # Backpropagation\n",
    "        optimizer.zero_grad()\n",
    "        loss.backward()\n",
    "        optimizer.step()\n",
    "        \n",
    "        \n",
    "        total_loss += loss.item()\n",
    "        \n",
    "    print(f\"Epoch {epoch+1}: Loss = {loss.item():.4f}\")\n"
   ]
  }
 ],
 "metadata": {
  "kernelspec": {
   "display_name": "Python 3",
   "language": "python",
   "name": "python3"
  },
  "language_info": {
   "codemirror_mode": {
    "name": "ipython",
    "version": 3
   },
   "file_extension": ".py",
   "mimetype": "text/x-python",
   "name": "python",
   "nbconvert_exporter": "python",
   "pygments_lexer": "ipython3",
   "version": "3.10.11"
  }
 },
 "nbformat": 4,
 "nbformat_minor": 5
}
