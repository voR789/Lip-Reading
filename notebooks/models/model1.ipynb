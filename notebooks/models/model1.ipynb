{
 "cells": [
  {
   "cell_type": "code",
   "execution_count": 45,
   "id": "be0ebff2",
   "metadata": {},
   "outputs": [],
   "source": [
    "import sys\n",
    "sys.path.append(\".\")\n",
    "import importlib\n",
    "import datasets.lip_to_word_dataset \n",
    "import util.cv_utils\n",
    "importlib.reload(datasets.lip_to_word_dataset)\n",
    "importlib.reload(util.cv_utils)\n",
    "from datasets.lip_to_word_dataset import LipReadingWordDataset\n",
    "from util.cv_utils import collate_fn\n",
    "\n",
    "import torch\n",
    "from torch.utils.data import Dataset\n",
    "from pathlib import Path\n",
    "from torch.utils.data import DataLoader\n"
   ]
  },
  {
   "cell_type": "code",
   "execution_count": 46,
   "id": "019d37d0",
   "metadata": {},
   "outputs": [],
   "source": [
    "# Load data\n",
    "folder = Path(r\"C:\\Projects\\Lip_Reading\\GRID\\processed\")\n",
    "dataset = LipReadingWordDataset(folder)\n",
    "\n",
    "train_loader = DataLoader(dataset, batch_size=32, shuffle=True, collate_fn=collate_fn)"
   ]
  },
  {
   "cell_type": "code",
   "execution_count": 47,
   "id": "6d14fe40",
   "metadata": {},
   "outputs": [
    {
     "name": "stdout",
     "output_type": "stream",
     "text": [
      "x_feat shape: (6, 8)\n",
      "x_coords shape: (6, 18)\n",
      "x_veloc shape: (6, 18)\n",
      "Label: 4\n"
     ]
    }
   ],
   "source": [
    "# Data size for model\n",
    "processed_file = Path(r\"C:\\Projects\\Lip_Reading\\GRID\\processed\\s1\\bbaf2n_data.pth\") \n",
    "data = torch.load(processed_file, map_location='cpu', weights_only= False)\n",
    "# Access the first word/sample's feature tensor shape\n",
    "x_feat = data[\"x_feat\"][0]  # first sample's engineered features\n",
    "x_coords = data[\"x_coords\"][0]  # first sample's coords\n",
    "x_veloc = data[\"x_veloc\"][0]  # first sample's velocities\n",
    "y_label = data[\"y_labels\"][0]\n",
    "\n",
    "print(f\"x_feat shape: {x_feat.shape}\")   # should print something like (seq_len, feat_dim)\n",
    "print(f\"x_coords shape: {x_coords.shape}\")\n",
    "print(f\"x_veloc shape: {x_veloc.shape}\")\n",
    "print(f\"Label: {y_label}\")\n"
   ]
  },
  {
   "cell_type": "code",
   "execution_count": 48,
   "id": "0b65f80a",
   "metadata": {},
   "outputs": [],
   "source": [
    "# Define a simple model\n",
    "import torch.nn as nn\n",
    "import torch.nn.functional as F\n",
    "\n",
    "class LipReadingModel(nn.Module):\n",
    "    def __init__(self, x_feat, x_coords, x_veloc, hidden_size, num_classes):\n",
    "        super(LipReadingModel, self).__init__()\n",
    "\n",
    "        input_size = x_feat + x_coords + x_veloc\n",
    "        self.lstm = nn.LSTM(input_size, hidden_size, batch_first=True)\n",
    "        self.fc = nn.Linear(hidden_size, num_classes)\n",
    "\n",
    "    def forward(self, x_dim, x_2d1, x_2d2):\n",
    "        x = torch.cat([x_dim, x_2d1, x_2d2], dim=2) \n",
    "        _, (h_n, _) = self.lstm(x)  \n",
    "        out = self.fc(h_n[-1])      \n",
    "        return out\n",
    "\n",
    "    def __getitem__(self, idx):\n",
    "        x_dim = torch.tensor(self.X_dim[idx], dtype=torch.float32)\n",
    "        x2d1  = torch.tensor(self.X_2d1[idx], dtype=torch.float32)\n",
    "        x2d2  = torch.tensor(self.X_2d2[idx], dtype=torch.float32)\n",
    "        label = torch.tensor(self.y[idx], dtype=torch.long)  # labels must be long for CrossEntropyLoss\n",
    "        return x_dim, x2d1, x2d2, label"
   ]
  },
  {
   "cell_type": "code",
   "execution_count": 49,
   "id": "3398294d",
   "metadata": {},
   "outputs": [],
   "source": [
    "model = LipReadingModel(\n",
    "    x_feat = 8,\n",
    "    x_coords = 18,\n",
    "    x_veloc = 18,\n",
    "    hidden_size = 128,\n",
    "    num_classes = 55\n",
    ")"
   ]
  },
  {
   "cell_type": "code",
   "execution_count": 50,
   "id": "5d284129",
   "metadata": {},
   "outputs": [],
   "source": [
    "import torch.optim as optim\n",
    "\n",
    "criterion = nn.CrossEntropyLoss()\n",
    "optimizer = optim.Adam(model.parameters(), lr=0.001)"
   ]
  },
  {
   "cell_type": "code",
   "execution_count": null,
   "id": "f016fcc8",
   "metadata": {},
   "outputs": [
    {
     "name": "stdout",
     "output_type": "stream",
     "text": [
      "x1 shape: torch.Size([32, 14, 8])\n",
      "x2 shape: torch.Size([32, 14, 18])\n",
      "x3 shape: torch.Size([32, 14, 18])\n",
      "y shape: torch.Size([32])\n",
      "x1 shape: torch.Size([32, 14, 8])\n",
      "x2 shape: torch.Size([32, 14, 18])\n",
      "x3 shape: torch.Size([32, 14, 18])\n",
      "y shape: torch.Size([32])\n",
      "x1 shape: torch.Size([32, 17, 8])\n",
      "x2 shape: torch.Size([32, 17, 18])\n",
      "x3 shape: torch.Size([32, 17, 18])\n",
      "y shape: torch.Size([32])\n",
      "x1 shape: torch.Size([32, 12, 8])\n",
      "x2 shape: torch.Size([32, 12, 18])\n",
      "x3 shape: torch.Size([32, 12, 18])\n",
      "y shape: torch.Size([32])\n",
      "x1 shape: torch.Size([32, 12, 8])\n",
      "x2 shape: torch.Size([32, 12, 18])\n",
      "x3 shape: torch.Size([32, 12, 18])\n",
      "y shape: torch.Size([32])\n"
     ]
    },
    {
     "ename": "RuntimeError",
     "evalue": "The size of tensor a (8) must match the size of tensor b (0) at non-singleton dimension 1",
     "output_type": "error",
     "traceback": [
      "\u001b[1;31m---------------------------------------------------------------------------\u001b[0m",
      "\u001b[1;31mRuntimeError\u001b[0m                              Traceback (most recent call last)",
      "Cell \u001b[1;32mIn[53], line 7\u001b[0m\n\u001b[0;32m      5\u001b[0m model\u001b[38;5;241m.\u001b[39mtrain()\n\u001b[0;32m      6\u001b[0m total_loss \u001b[38;5;241m=\u001b[39m \u001b[38;5;241m0.0\u001b[39m\n\u001b[1;32m----> 7\u001b[0m \u001b[38;5;28;01mfor\u001b[39;00m x1, x2, x3, y \u001b[38;5;129;01min\u001b[39;00m train_loader:\n\u001b[0;32m      8\u001b[0m \n\u001b[0;32m      9\u001b[0m     \u001b[38;5;66;03m# Move data to device\u001b[39;00m\n\u001b[0;32m     10\u001b[0m     x1 \u001b[38;5;241m=\u001b[39m x1\u001b[38;5;241m.\u001b[39mto(device)\n\u001b[0;32m     11\u001b[0m     x2 \u001b[38;5;241m=\u001b[39m x2\u001b[38;5;241m.\u001b[39mto(device)\n",
      "File \u001b[1;32m~\\AppData\\Roaming\\Python\\Python310\\site-packages\\torch\\utils\\data\\dataloader.py:733\u001b[0m, in \u001b[0;36m_BaseDataLoaderIter.__next__\u001b[1;34m(self)\u001b[0m\n\u001b[0;32m    730\u001b[0m \u001b[38;5;28;01mif\u001b[39;00m \u001b[38;5;28mself\u001b[39m\u001b[38;5;241m.\u001b[39m_sampler_iter \u001b[38;5;129;01mis\u001b[39;00m \u001b[38;5;28;01mNone\u001b[39;00m:\n\u001b[0;32m    731\u001b[0m     \u001b[38;5;66;03m# TODO(https://github.com/pytorch/pytorch/issues/76750)\u001b[39;00m\n\u001b[0;32m    732\u001b[0m     \u001b[38;5;28mself\u001b[39m\u001b[38;5;241m.\u001b[39m_reset()  \u001b[38;5;66;03m# type: ignore[call-arg]\u001b[39;00m\n\u001b[1;32m--> 733\u001b[0m data \u001b[38;5;241m=\u001b[39m \u001b[38;5;28;43mself\u001b[39;49m\u001b[38;5;241;43m.\u001b[39;49m\u001b[43m_next_data\u001b[49m\u001b[43m(\u001b[49m\u001b[43m)\u001b[49m\n\u001b[0;32m    734\u001b[0m \u001b[38;5;28mself\u001b[39m\u001b[38;5;241m.\u001b[39m_num_yielded \u001b[38;5;241m+\u001b[39m\u001b[38;5;241m=\u001b[39m \u001b[38;5;241m1\u001b[39m\n\u001b[0;32m    735\u001b[0m \u001b[38;5;28;01mif\u001b[39;00m (\n\u001b[0;32m    736\u001b[0m     \u001b[38;5;28mself\u001b[39m\u001b[38;5;241m.\u001b[39m_dataset_kind \u001b[38;5;241m==\u001b[39m _DatasetKind\u001b[38;5;241m.\u001b[39mIterable\n\u001b[0;32m    737\u001b[0m     \u001b[38;5;129;01mand\u001b[39;00m \u001b[38;5;28mself\u001b[39m\u001b[38;5;241m.\u001b[39m_IterableDataset_len_called \u001b[38;5;129;01mis\u001b[39;00m \u001b[38;5;129;01mnot\u001b[39;00m \u001b[38;5;28;01mNone\u001b[39;00m\n\u001b[0;32m    738\u001b[0m     \u001b[38;5;129;01mand\u001b[39;00m \u001b[38;5;28mself\u001b[39m\u001b[38;5;241m.\u001b[39m_num_yielded \u001b[38;5;241m>\u001b[39m \u001b[38;5;28mself\u001b[39m\u001b[38;5;241m.\u001b[39m_IterableDataset_len_called\n\u001b[0;32m    739\u001b[0m ):\n",
      "File \u001b[1;32m~\\AppData\\Roaming\\Python\\Python310\\site-packages\\torch\\utils\\data\\dataloader.py:789\u001b[0m, in \u001b[0;36m_SingleProcessDataLoaderIter._next_data\u001b[1;34m(self)\u001b[0m\n\u001b[0;32m    787\u001b[0m \u001b[38;5;28;01mdef\u001b[39;00m\u001b[38;5;250m \u001b[39m\u001b[38;5;21m_next_data\u001b[39m(\u001b[38;5;28mself\u001b[39m):\n\u001b[0;32m    788\u001b[0m     index \u001b[38;5;241m=\u001b[39m \u001b[38;5;28mself\u001b[39m\u001b[38;5;241m.\u001b[39m_next_index()  \u001b[38;5;66;03m# may raise StopIteration\u001b[39;00m\n\u001b[1;32m--> 789\u001b[0m     data \u001b[38;5;241m=\u001b[39m \u001b[38;5;28;43mself\u001b[39;49m\u001b[38;5;241;43m.\u001b[39;49m\u001b[43m_dataset_fetcher\u001b[49m\u001b[38;5;241;43m.\u001b[39;49m\u001b[43mfetch\u001b[49m\u001b[43m(\u001b[49m\u001b[43mindex\u001b[49m\u001b[43m)\u001b[49m  \u001b[38;5;66;03m# may raise StopIteration\u001b[39;00m\n\u001b[0;32m    790\u001b[0m     \u001b[38;5;28;01mif\u001b[39;00m \u001b[38;5;28mself\u001b[39m\u001b[38;5;241m.\u001b[39m_pin_memory:\n\u001b[0;32m    791\u001b[0m         data \u001b[38;5;241m=\u001b[39m _utils\u001b[38;5;241m.\u001b[39mpin_memory\u001b[38;5;241m.\u001b[39mpin_memory(data, \u001b[38;5;28mself\u001b[39m\u001b[38;5;241m.\u001b[39m_pin_memory_device)\n",
      "File \u001b[1;32m~\\AppData\\Roaming\\Python\\Python310\\site-packages\\torch\\utils\\data\\_utils\\fetch.py:55\u001b[0m, in \u001b[0;36m_MapDatasetFetcher.fetch\u001b[1;34m(self, possibly_batched_index)\u001b[0m\n\u001b[0;32m     53\u001b[0m \u001b[38;5;28;01melse\u001b[39;00m:\n\u001b[0;32m     54\u001b[0m     data \u001b[38;5;241m=\u001b[39m \u001b[38;5;28mself\u001b[39m\u001b[38;5;241m.\u001b[39mdataset[possibly_batched_index]\n\u001b[1;32m---> 55\u001b[0m \u001b[38;5;28;01mreturn\u001b[39;00m \u001b[38;5;28;43mself\u001b[39;49m\u001b[38;5;241;43m.\u001b[39;49m\u001b[43mcollate_fn\u001b[49m\u001b[43m(\u001b[49m\u001b[43mdata\u001b[49m\u001b[43m)\u001b[49m\n",
      "File \u001b[1;32mc:\\projects\\lip_reading\\util\\cv_utils.py:231\u001b[0m, in \u001b[0;36mcollate_fn\u001b[1;34m(batch)\u001b[0m\n\u001b[0;32m    228\u001b[0m \u001b[38;5;28;01mdef\u001b[39;00m\u001b[38;5;250m \u001b[39m\u001b[38;5;21mcollate_fn\u001b[39m(batch):\n\u001b[0;32m    229\u001b[0m     x1, x2, x3, y \u001b[38;5;241m=\u001b[39m \u001b[38;5;28mzip\u001b[39m(\u001b[38;5;241m*\u001b[39mbatch) \u001b[38;5;66;03m# unpack getItem data\u001b[39;00m\n\u001b[1;32m--> 231\u001b[0m     x1_padded \u001b[38;5;241m=\u001b[39m \u001b[43mpad_sequence\u001b[49m\u001b[43m(\u001b[49m\u001b[43mx1\u001b[49m\u001b[43m,\u001b[49m\u001b[43m \u001b[49m\u001b[43mbatch_first\u001b[49m\u001b[38;5;241;43m=\u001b[39;49m\u001b[38;5;28;43;01mTrue\u001b[39;49;00m\u001b[43m)\u001b[49m \u001b[38;5;66;03m# outputs 3dim tensor of (batch_size, max_seq_len, feature_size) \"True Tensors\"\u001b[39;00m\n\u001b[0;32m    232\u001b[0m     x2_padded \u001b[38;5;241m=\u001b[39m pad_sequence(x2, batch_first\u001b[38;5;241m=\u001b[39m\u001b[38;5;28;01mTrue\u001b[39;00m)\n\u001b[0;32m    233\u001b[0m     x3_padded \u001b[38;5;241m=\u001b[39m pad_sequence(x3, batch_first\u001b[38;5;241m=\u001b[39m\u001b[38;5;28;01mTrue\u001b[39;00m)\n",
      "File \u001b[1;32m~\\AppData\\Roaming\\Python\\Python310\\site-packages\\torch\\nn\\utils\\rnn.py:475\u001b[0m, in \u001b[0;36mpad_sequence\u001b[1;34m(sequences, batch_first, padding_value, padding_side)\u001b[0m\n\u001b[0;32m    471\u001b[0m         sequences \u001b[38;5;241m=\u001b[39m sequences\u001b[38;5;241m.\u001b[39munbind(\u001b[38;5;241m0\u001b[39m)  \u001b[38;5;66;03m# type: ignore[assignment]\u001b[39;00m\n\u001b[0;32m    473\u001b[0m \u001b[38;5;66;03m# assuming trailing dimensions and type of all the Tensors\u001b[39;00m\n\u001b[0;32m    474\u001b[0m \u001b[38;5;66;03m# in sequences are same and fetching those from sequences[0]\u001b[39;00m\n\u001b[1;32m--> 475\u001b[0m \u001b[38;5;28;01mreturn\u001b[39;00m \u001b[43mtorch\u001b[49m\u001b[38;5;241;43m.\u001b[39;49m\u001b[43m_C\u001b[49m\u001b[38;5;241;43m.\u001b[39;49m\u001b[43m_nn\u001b[49m\u001b[38;5;241;43m.\u001b[39;49m\u001b[43mpad_sequence\u001b[49m\u001b[43m(\u001b[49m\n\u001b[0;32m    476\u001b[0m \u001b[43m    \u001b[49m\u001b[43msequences\u001b[49m\u001b[43m,\u001b[49m\u001b[43m \u001b[49m\u001b[43mbatch_first\u001b[49m\u001b[43m,\u001b[49m\u001b[43m \u001b[49m\u001b[43mpadding_value\u001b[49m\u001b[43m,\u001b[49m\u001b[43m \u001b[49m\u001b[43mpadding_side\u001b[49m\u001b[43m  \u001b[49m\u001b[38;5;66;43;03m# type: ignore[arg-type]\u001b[39;49;00m\n\u001b[0;32m    477\u001b[0m \u001b[43m\u001b[49m\u001b[43m)\u001b[49m\n",
      "\u001b[1;31mRuntimeError\u001b[0m: The size of tensor a (8) must match the size of tensor b (0) at non-singleton dimension 1"
     ]
    }
   ],
   "source": [
    "device = torch.device(\"cuda\" if torch.cuda.is_available() else \"cpu\")\n",
    "model = model.to(device)\n",
    "# TODO Fix corruption in data ruining pad_sequence b/c length of zero, investigate\n",
    "for epoch in range(10):\n",
    "    model.train()\n",
    "    total_loss = 0.0\n",
    "    for x1, x2, x3, y in train_loader:\n",
    "\n",
    "        # Move data to device\n",
    "        x1 = x1.to(device)\n",
    "        x2 = x2.to(device)\n",
    "        x3 = x3.to(device)\n",
    "        y = y.to(device)\n",
    "\n",
    "        print(f\"x1 shape: {x1.shape}\")\n",
    "        print(f\"x2 shape: {x2.shape}\")\n",
    "        print(f\"x3 shape: {x3.shape}\")\n",
    "        print(f\"y shape: {y.shape}\")\n",
    "        \n",
    "        # Forward pass\n",
    "        outputs = model(x1, x2, x3)\n",
    "        loss = criterion(outputs, y)\n",
    "\n",
    "        # Backpropagation\n",
    "        optimizer.zero_grad()\n",
    "        loss.backward()\n",
    "        optimizer.step()\n",
    "        \n",
    "        \n",
    "        total_loss += loss.item()\n",
    "        \n",
    "    print(f\"Epoch {epoch+1}: Loss = {loss.item():.4f}\")\n"
   ]
  }
 ],
 "metadata": {
  "kernelspec": {
   "display_name": "Python 3",
   "language": "python",
   "name": "python3"
  },
  "language_info": {
   "codemirror_mode": {
    "name": "ipython",
    "version": 3
   },
   "file_extension": ".py",
   "mimetype": "text/x-python",
   "name": "python",
   "nbconvert_exporter": "python",
   "pygments_lexer": "ipython3",
   "version": "3.10.0"
  }
 },
 "nbformat": 4,
 "nbformat_minor": 5
}
