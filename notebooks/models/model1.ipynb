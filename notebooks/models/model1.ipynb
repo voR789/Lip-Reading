{
 "cells": [
  {
   "cell_type": "code",
   "execution_count": null,
   "id": "be0ebff2",
   "metadata": {},
   "outputs": [],
   "source": [
    "import sys\n",
    "sys.path.append(\".\")\n",
    "import importlib\n",
    "import datasets.lip_to_word_dataset \n",
    "import util.cv_utils\n",
    "importlib.reload(datasets.lip_to_word_dataset)\n",
    "importlib.reload(util.cv_utils)\n",
    "from datasets.lip_to_word_dataset import LipReadingWordDataset\n",
    "from util.cv_utils import collate_fn\n",
    "\n",
    "import torch\n",
    "from torch.utils.data import Dataset\n",
    "from pathlib import Path\n",
    "from torch.utils.data import DataLoader\n"
   ]
  },
  {
   "cell_type": "code",
   "execution_count": null,
   "id": "019d37d0",
   "metadata": {},
   "outputs": [],
   "source": [
    "# Load data\n",
    "folder = Path(r\"C:\\Projects\\Lip_Reading\\GRID\\processed\")\n",
    "dataset = LipReadingWordDataset(folder)\n",
    "\n",
    "train_loader = DataLoader(dataset, batch_size=32, shuffle=True, collate_fn=collate_fn)"
   ]
  },
  {
   "cell_type": "code",
   "execution_count": null,
   "id": "6d14fe40",
   "metadata": {},
   "outputs": [
    {
     "name": "stdout",
     "output_type": "stream",
     "text": [
      "x_feat shape: (6, 8)\n",
      "x_coords shape: (6, 18)\n",
      "x_veloc shape: (6, 18)\n",
      "Label: 4\n"
     ]
    }
   ],
   "source": [
    "# Data size for model\n",
    "processed_file = Path(r\"C:\\Projects\\Lip_Reading\\GRID\\processed\\s1\\bbaf2n_data.pth\") \n",
    "data = torch.load(processed_file, map_location='cpu', weights_only= False)\n",
    "# Access the first word/sample's feature tensor shape\n",
    "x_feat = data[\"x_feat\"][0]  # first sample's engineered features\n",
    "x_coords = data[\"x_coords\"][0]  # first sample's coords\n",
    "x_veloc = data[\"x_veloc\"][0]  # first sample's velocities\n",
    "y_label = data[\"y_labels\"][0]\n",
    "\n",
    "print(f\"x_feat shape: {x_feat.shape}\")   # should print something like (seq_len, feat_dim)\n",
    "print(f\"x_coords shape: {x_coords.shape}\")\n",
    "print(f\"x_veloc shape: {x_veloc.shape}\")\n",
    "print(f\"Label: {y_label}\")\n"
   ]
  },
  {
   "cell_type": "code",
   "execution_count": 41,
   "id": "0b65f80a",
   "metadata": {},
   "outputs": [],
   "source": [
    "# Define a simple model\n",
    "import torch.nn as nn\n",
    "import torch.nn.functional as F\n",
    "\n",
    "class LipReadingModel(nn.Module):\n",
    "    def __init__(self, x_feat, x_coords, x_veloc, hidden_size, num_classes):\n",
    "        super(LipReadingModel, self).__init__()\n",
    "\n",
    "        input_size = x_feat + x_coords + x_veloc\n",
    "        self.lstm = nn.LSTM(input_size, hidden_size, batch_first=True)\n",
    "        self.fc = nn.Linear(hidden_size, num_classes)\n",
    "\n",
    "    def forward(self, x_dim, x_2d1, x_2d2):\n",
    "        x = torch.cat([x_dim, x_2d1, x_2d2], dim=2) \n",
    "        _, (h_n, _) = self.lstm(x)  \n",
    "        out = self.fc(h_n[-1])      \n",
    "        return out\n",
    "\n",
    "    def __getitem__(self, idx):\n",
    "        x_dim = torch.tensor(self.X_dim[idx], dtype=torch.float32)\n",
    "        x2d1  = torch.tensor(self.X_2d1[idx], dtype=torch.float32)\n",
    "        x2d2  = torch.tensor(self.X_2d2[idx], dtype=torch.float32)\n",
    "        label = torch.tensor(self.y[idx], dtype=torch.long)  # labels must be long for CrossEntropyLoss\n",
    "        return x_dim, x2d1, x2d2, label"
   ]
  },
  {
   "cell_type": "code",
   "execution_count": 42,
   "id": "3398294d",
   "metadata": {},
   "outputs": [],
   "source": [
    "model = LipReadingModel(\n",
    "    x_feat = 8,\n",
    "    x_coords = 18,\n",
    "    x_veloc = 18,\n",
    "    hidden_size = 128,\n",
    "    num_classes = 55\n",
    ")"
   ]
  }
 ],
 "metadata": {
  "kernelspec": {
   "display_name": "Python 3",
   "language": "python",
   "name": "python3"
  },
  "language_info": {
   "codemirror_mode": {
    "name": "ipython",
    "version": 3
   },
   "file_extension": ".py",
   "mimetype": "text/x-python",
   "name": "python",
   "nbconvert_exporter": "python",
   "pygments_lexer": "ipython3",
   "version": "3.10.0"
  }
 },
 "nbformat": 4,
 "nbformat_minor": 5
}
